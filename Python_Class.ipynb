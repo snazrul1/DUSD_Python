{
 "cells": [
  {
   "cell_type": "markdown",
   "metadata": {},
   "source": [
    "# Welcome to the Python class! \n",
    "After completing each exercise, ask the instructor to review before moving to the next section. Read each instruction carefully and call the instructor if something doesn't make sense."
   ]
  },
  {
   "cell_type": "markdown",
   "metadata": {},
   "source": [
    "### Resources for python\n",
    "\n",
    "Here are some of the best resources for Python on the web. \n",
    "\n",
    "#### Learning resources\n",
    "\n",
    "* [Interactive Python](http://interactivepython.org/) An online book that includes embedded live excercises. Fun!\n",
    "* [Dive Into Python](http://www.diveintopython.net/) An excellent, thorough book.\n",
    "* [tutorial point](http://www.tutorialspoint.com/python/index.htm) A resource that is useful when you want an explanation of one concept, rather than a whole chapter.\n",
    "\n",
    "There are endless other learning resources, you can find some more on the [Class resources webpage](http://mas-dse-200.herokuapp.com/resources/)\n",
    "\n",
    "#### Reference resources\n",
    "\n",
    "Typically, if you have a question about python, you can find an answer by using google. The following sites will usually have the best answer.\n",
    "\n",
    "* [Official python documentation](https://docs.python.org/2/library/)\n",
    "* [Quick Reference from Tutorial Point](http://www.tutorialspoint.com/python/python_quick_guide.htm)"
   ]
  },
  {
   "cell_type": "markdown",
   "metadata": {},
   "source": [
    "# Basic Python"
   ]
  },
  {
   "cell_type": "markdown",
   "metadata": {},
   "source": [
    "### Print Hello World!"
   ]
  },
  {
   "cell_type": "code",
   "execution_count": null,
   "metadata": {},
   "outputs": [],
   "source": [
    "print(\"Hello Wolrd!\")"
   ]
  },
  {
   "cell_type": "markdown",
   "metadata": {},
   "source": [
    "### Basic types\n",
    "\n",
    "The main basic data types in python are numbers (`int`s and `float`s) `bool`ean and `str`ings."
   ]
  },
  {
   "cell_type": "code",
   "execution_count": null,
   "metadata": {},
   "outputs": [],
   "source": [
    "print(type(123))\n",
    "print(type(123.0))\n",
    "print(type('123'))\n",
    "print(type(True))"
   ]
  },
  {
   "cell_type": "code",
   "execution_count": null,
   "metadata": {},
   "outputs": [],
   "source": [
    "# Strings can be enclosed by ',\" or \"\"\"\n",
    "print(\" this is a string enclosed by \\\"\\\" not '' \")\n",
    "print(' this string is not enlosed by \"\" ')\n",
    "print('This string spans \\n two lines\\n\\n')\n",
    "print(\"\"\"this string is \n",
    "a whole paragraph, ' and \" can be used freely\n",
    "and can span lines without using \\\\\n",
    "\"\"\")"
   ]
  },
  {
   "cell_type": "markdown",
   "metadata": {},
   "source": [
    "### The numbers support all of the standard mathematical operations"
   ]
  },
  {
   "cell_type": "code",
   "execution_count": null,
   "metadata": {},
   "outputs": [],
   "source": [
    "123+2"
   ]
  },
  {
   "cell_type": "code",
   "execution_count": null,
   "metadata": {},
   "outputs": [],
   "source": [
    "123-2.0  # if one of the operands is a float, the result is a float."
   ]
  },
  {
   "cell_type": "code",
   "execution_count": null,
   "metadata": {},
   "outputs": [],
   "source": [
    "123/2    # integer division"
   ]
  },
  {
   "cell_type": "code",
   "execution_count": null,
   "metadata": {},
   "outputs": [],
   "source": [
    "123.0/2, 123/2.0  # floating point division"
   ]
  },
  {
   "cell_type": "code",
   "execution_count": null,
   "metadata": {},
   "outputs": [],
   "source": [
    "# i % j computes the remaineder from dividing i by j (integer division)\n",
    "print(123 % 5,',', 123-(123/5)*5)   # the 'print' command is redundant in the last line of a cell."
   ]
  },
  {
   "cell_type": "code",
   "execution_count": null,
   "metadata": {},
   "outputs": [],
   "source": [
    "# Summing of strings means concatanation \n",
    "x='123'+'0'\n",
    "x"
   ]
  },
  {
   "cell_type": "code",
   "execution_count": null,
   "metadata": {},
   "outputs": [],
   "source": [
    "# incrementing or decrementing a variable\n",
    "a=0; b=0 # yes, you can have more than one command in a line, but it is usually considered bad style\n",
    "a+=1; a+=1 # equivalent to `a=a+1`\n",
    "b-=2; b-=3\n",
    "print(a,b)"
   ]
  },
  {
   "cell_type": "code",
   "execution_count": null,
   "metadata": {},
   "outputs": [],
   "source": [
    "# casting a string as an integer\n",
    "int(x)-1"
   ]
  },
  {
   "cell_type": "code",
   "execution_count": null,
   "metadata": {},
   "outputs": [],
   "source": [
    "# casting an integer as a string\n",
    "str(15)+'$'"
   ]
  },
  {
   "cell_type": "markdown",
   "metadata": {},
   "source": [
    "#### Excercise\n",
    "Write a statement that, given two integers, a and b, outputs the string\n",
    "> a + b = a+b\n",
    "\n",
    "for example, if a=15 and b=3, output \n",
    "> 15 + 3 = 18"
   ]
  },
  {
   "cell_type": "code",
   "execution_count": null,
   "metadata": {},
   "outputs": [],
   "source": [
    "a=15; b=3\n",
    "\n",
    "# Write Code Here\n"
   ]
  },
  {
   "cell_type": "markdown",
   "metadata": {},
   "source": [
    "### Booleans and conditions"
   ]
  },
  {
   "cell_type": "code",
   "execution_count": null,
   "metadata": {},
   "outputs": [],
   "source": [
    "print(1==1, 1==2, 1<2, 1<1, 1<=1,1<=0.99)"
   ]
  },
  {
   "cell_type": "code",
   "execution_count": null,
   "metadata": {},
   "outputs": [],
   "source": [
    "print(type(1==1))"
   ]
  },
  {
   "cell_type": "code",
   "execution_count": null,
   "metadata": {},
   "outputs": [],
   "source": [
    "True or False, True and False, not False"
   ]
  },
  {
   "cell_type": "code",
   "execution_count": null,
   "metadata": {},
   "outputs": [],
   "source": [
    "# testing whether a number is a multiple of 7\n",
    "a=343\n",
    "a % 7 == 0"
   ]
  },
  {
   "cell_type": "markdown",
   "metadata": {},
   "source": [
    "### String opeations"
   ]
  },
  {
   "cell_type": "code",
   "execution_count": null,
   "metadata": {},
   "outputs": [],
   "source": [
    "'1'+'2' # Concatanation"
   ]
  },
  {
   "cell_type": "code",
   "execution_count": null,
   "metadata": {},
   "outputs": [],
   "source": [
    "word='Lough'"
   ]
  },
  {
   "cell_type": "code",
   "execution_count": null,
   "metadata": {},
   "outputs": [],
   "source": [
    "'gh' in word # test for substring"
   ]
  },
  {
   "cell_type": "code",
   "execution_count": null,
   "metadata": {},
   "outputs": [],
   "source": [
    "word.find('gh') # find the first location of 'gh' in 'lough'"
   ]
  },
  {
   "cell_type": "code",
   "execution_count": null,
   "metadata": {},
   "outputs": [],
   "source": [
    "print(word.upper()) # all cases to upper\n",
    "print(word.lower()) # all cases to lower"
   ]
  },
  {
   "cell_type": "code",
   "execution_count": null,
   "metadata": {},
   "outputs": [],
   "source": [
    "print(word[1:],word[:-1])   # get all but the first, or all but the last characters of the word"
   ]
  },
  {
   "cell_type": "code",
   "execution_count": null,
   "metadata": {},
   "outputs": [],
   "source": [
    "text='   this is it   '\n",
    "print(text.strip()) # remove trailing space on both sides\n",
    "print(text.lstrip()) # remove trailing space on left\n",
    "print(text.rstrip()) # remove trailing space on right"
   ]
  },
  {
   "cell_type": "markdown",
   "metadata": {},
   "source": [
    "### Lists and Tuples ###\n",
    "In the next cell we read the file, parse it according to `fields`, and create a dictionary of lists, one for each field."
   ]
  },
  {
   "cell_type": "code",
   "execution_count": null,
   "metadata": {},
   "outputs": [],
   "source": [
    "## This list of tuples defines the names and locations of the elements.\n",
    "fields=[\n",
    "    ('caseid', 1, 12, int),\n",
    "    ('nbrnaliv', 22, 22, int),\n",
    "    ('birthwgt_oz', 59, 60, int),\n",
    "    ('prglength', 275, 276, int),\n",
    "    ('outcome', 277, 277, int),\n",
    "    ('birthord', 278, 279, int),\n",
    "    ('agepreg', 284, 287, int),\n",
    "    ('finalwgt', 423, 440, float),\n",
    "]\n",
    "print(fields)\n",
    "# note the types of the 4 fields, especially the last one"
   ]
  },
  {
   "cell_type": "code",
   "execution_count": null,
   "metadata": {},
   "outputs": [],
   "source": [
    "type(fields)"
   ]
  },
  {
   "cell_type": "code",
   "execution_count": null,
   "metadata": {},
   "outputs": [],
   "source": [
    "print(fields[2])\n",
    "print(type(fields[2]))"
   ]
  },
  {
   "cell_type": "code",
   "execution_count": null,
   "metadata": {},
   "outputs": [],
   "source": [
    "print(fields[2][0])\n",
    "print(type(fields[2][0]))"
   ]
  },
  {
   "cell_type": "markdown",
   "metadata": {},
   "source": [
    "### Sets\n",
    "Sets are mutable collections of objects in which each object can appear at most once.\n",
    "\n",
    "Sets are unordered, sorting them creates a list.\n"
   ]
  },
  {
   "cell_type": "code",
   "execution_count": null,
   "metadata": {},
   "outputs": [],
   "source": [
    "s=set([2,99,2,1,4,99,99]) # you can make sets from lists\n",
    "print(s)"
   ]
  },
  {
   "cell_type": "code",
   "execution_count": null,
   "metadata": {},
   "outputs": [],
   "source": [
    "l=list(s)   # and lists from sets\n",
    "print(l)"
   ]
  },
  {
   "cell_type": "code",
   "execution_count": null,
   "metadata": {},
   "outputs": [],
   "source": [
    "t=set(['a','b','a',2])\n",
    "print(t | s)   # you can take the OR (union) of two sets"
   ]
  },
  {
   "cell_type": "code",
   "execution_count": null,
   "metadata": {},
   "outputs": [],
   "source": [
    "# You can take the intersection of two sets\n",
    "print(s & t)"
   ]
  },
  {
   "cell_type": "code",
   "execution_count": null,
   "metadata": {},
   "outputs": [],
   "source": [
    " # you can find all of the elements that are in one set but not the other \n",
    "    \n",
    "print(t-s)\n",
    "print(s-t)"
   ]
  },
  {
   "cell_type": "markdown",
   "metadata": {},
   "source": [
    "Operation\t| Equivalent | Result\n",
    "-------------------|---------------|---------------------\n",
    "len(s)\t \t|   | cardinality of set s \n",
    "x in s\t \t|   | test x for membership in s\n",
    "x not in s\t|   | \ttest x for non-membership in s\n",
    "s.issubset(t) |\ts <= t\t| test whether every element in s is in t\n",
    "s.issuperset(t) | s >= t | test whether every element in t is in s\n",
    "s.union(t) | s &#124; t\t| new set with elements from both s and t\n",
    "s.intersection(t)\t| s & t\t| new set with elements common to s and t\n",
    "s.difference(t)\t| s - t\t| new set with elements in s but not in t\n",
    "s.symmetric_difference(t)\t| s ^ t |\tnew set with elements in either s or t but not both\n",
    "s.copy()\t \t| | new set with a shallow copy of s"
   ]
  },
  {
   "cell_type": "markdown",
   "metadata": {},
   "source": [
    "### Mutable and immutable objects, shallow and deep copies\n",
    "\n",
    "* **Lists are Mutable** the object references *can* be changed.\n",
    "* **Tuples are immutable** the object references *cannot* be changed.\n"
   ]
  },
  {
   "cell_type": "code",
   "execution_count": null,
   "metadata": {},
   "outputs": [],
   "source": [
    "from copy import deepcopy\n",
    "#lists are mutable:\n",
    "fields_copy=deepcopy(fields)\n",
    "fields_copy[3]='something else'\n",
    "print(fields_copy)\n",
    "print(fields)"
   ]
  },
  {
   "cell_type": "markdown",
   "metadata": {},
   "source": [
    "#### Assignment, copy and deepcopy\n",
    "\n",
    "We want to keep the list `fields` unchanged, because we will use it later to parse the file.\n",
    "\n",
    "We want to create a *deep copy* of the list. The three main ways to create a new list are:\n",
    "\n",
    "1. **Assignment:** `list2=list1` this does not create a new data structure, instead, it creates a pointer to an existing data structure.\n",
    "2. **Shallow Copy:** `list2=copy.copy(list1)` list2 is a new container, but the elements in the container are not copied.\n",
    "3. **Deep Copy:** `list2=copy.deepcopy(list1)` list2 is a new container and each element is a new object, continuing recursively.\n",
    "\n",
    "\n",
    "[More on deep and shallow copies](https://docs.python.org/2/library/copy.html)"
   ]
  },
  {
   "cell_type": "code",
   "execution_count": null,
   "metadata": {},
   "outputs": [],
   "source": [
    "#tuples are not mutable (immutable)... this should error out as you can't edit a tuple\n",
    "fields_copy[2][0]=15"
   ]
  },
  {
   "cell_type": "code",
   "execution_count": null,
   "metadata": {},
   "outputs": [],
   "source": [
    "# slices\n",
    "L=range(10)\n",
    "print('L =',L)\n",
    "print('L[3:7] =',L[3:7])"
   ]
  },
  {
   "cell_type": "code",
   "execution_count": null,
   "metadata": {},
   "outputs": [],
   "source": [
    "#counting form the end of the list\n",
    "print(L[-6:-1])\n",
    "print(L[-6:])"
   ]
  },
  {
   "cell_type": "markdown",
   "metadata": {},
   "source": [
    "#### Exercise\n",
    "Write a statement that, given a list L and an integer k would print the last k elements of the List"
   ]
  },
  {
   "cell_type": "code",
   "execution_count": null,
   "metadata": {},
   "outputs": [],
   "source": [
    "L=['a','b',1,2]\n",
    "k=2\n",
    "# Write code here. For this input, the output should be [1,2]\n",
    "\n",
    "\n",
    "\n",
    "\n"
   ]
  },
  {
   "cell_type": "markdown",
   "metadata": {},
   "source": [
    "### List Operations"
   ]
  },
  {
   "cell_type": "code",
   "execution_count": null,
   "metadata": {},
   "outputs": [],
   "source": [
    "A=[3,1,2]\n",
    "B=['a','c','c','b']\n",
    "C=(1,'a','c')\n",
    "\n",
    "# Concatanating tuples\n",
    "print(C+C)\n",
    "\n",
    "# Concatenating lists\n",
    "print(A+B)"
   ]
  },
  {
   "cell_type": "code",
   "execution_count": null,
   "metadata": {},
   "outputs": [],
   "source": [
    "# appending a value to a list as it is *mutable*\n",
    "print(B)\n",
    "\n",
    "B.append(55)\n",
    "print(B)"
   ]
  },
  {
   "cell_type": "markdown",
   "metadata": {},
   "source": [
    "### for loops\n",
    "For loops are a common way to iterate over the elements of a list\n",
    "\n",
    "One unique feature of python is that code blocks are not surrounded by `{}` oe `begin`,`end`. Instead, python uses indentation,\n",
    "The lines inside a block have to be indented by a tab, or by 4 spaces, relative to the surrounding commands.\n",
    "\n",
    "While this might seem unintuitive at first, it encourages writing more readable code, over time, you'd learn to love it!"
   ]
  },
  {
   "cell_type": "code",
   "execution_count": null,
   "metadata": {},
   "outputs": [],
   "source": [
    "L=['a','b','c']\n",
    "# note the : and the <tab> they are both necessary\n",
    "# note that the loop does not have an \"end\" command\n",
    "for l in L:\n",
    "    print(l+'='+l)"
   ]
  },
  {
   "cell_type": "markdown",
   "metadata": {},
   "source": [
    "### The range command creates a list of integers:\n",
    "> **range(end)** - generates the list [0,1,...,end-1]\n",
    "\n",
    "> **range(start,end)** generates the list [start,...,end-1]\n",
    "\n",
    "> **range(start,end,step)** generates the list [start,start+step,start+2*step,...] ending at the largest element that is smaller than end"
   ]
  },
  {
   "cell_type": "code",
   "execution_count": null,
   "metadata": {},
   "outputs": [],
   "source": [
    "# another way to achieve the same result is\n",
    "for i in range(len(L)):\n",
    "    l=L[i]\n",
    "    print(i,l+'='+l)    "
   ]
  },
  {
   "cell_type": "code",
   "execution_count": null,
   "metadata": {},
   "outputs": [],
   "source": [
    "# print only the odd numbered elements\n",
    "for i in range(1,len(L),2):\n",
    "    l=L[i]\n",
    "    print(i,l+'='+l) "
   ]
  },
  {
   "cell_type": "code",
   "execution_count": null,
   "metadata": {},
   "outputs": [],
   "source": [
    "#looping over the \"fields\" list\n",
    "for field in fields:\n",
    "    print(field)"
   ]
  },
  {
   "cell_type": "markdown",
   "metadata": {},
   "source": [
    "### If-Then-Else\n",
    "\n",
    "A conditional statement can take any of the following forms."
   ]
  },
  {
   "cell_type": "code",
   "execution_count": null,
   "metadata": {},
   "outputs": [],
   "source": [
    "A=231\n",
    "if A<30:\n",
    "    print('A is smaller than 30')\n",
    "else:\n",
    "    print('A is equal to or larger than 30')"
   ]
  },
  {
   "cell_type": "code",
   "execution_count": null,
   "metadata": {},
   "outputs": [],
   "source": [
    "if A>30:\n",
    "    print('A is larger than 30')\n",
    "elif A==22:\n",
    "    print('A = 22')\n",
    "else:\n",
    "    print('Catchall condition')\n",
    "    "
   ]
  },
  {
   "cell_type": "markdown",
   "metadata": {},
   "source": [
    "### Combining loops and conditionals ###\n",
    "Combining for loops and conditionals is one of the main work-horses of any procedural language."
   ]
  },
  {
   "cell_type": "code",
   "execution_count": null,
   "metadata": {},
   "outputs": [],
   "source": [
    "L=[1,'2',3,'a',22,'green',[],(1,2,3)]\n",
    "for l in L:\n",
    "    if type(l)==str:\n",
    "        print(l,'is a string')\n",
    "    else:\n",
    "        print(l,'is not a string')"
   ]
  },
  {
   "cell_type": "code",
   "execution_count": null,
   "metadata": {},
   "outputs": [],
   "source": [
    "# use \"continue\" when you want to skip a single iteration\n",
    "# here is code that would print only the strings, ignoring items of other types,\n",
    "# it also prints the location of the element in the list.\n",
    "i=-1   # Starting at -1 because the python convension is that the index of the first element is 0\n",
    "for l in L:\n",
    "    i+=1   # a counter indicating the location of l in L\n",
    "    if type(l)!=str:\n",
    "        continue\n",
    "    print(i,l)"
   ]
  },
  {
   "cell_type": "code",
   "execution_count": null,
   "metadata": {},
   "outputs": [],
   "source": [
    "# use \"break\" when you want to quit the loop early\n",
    "# here is code to find and print the first string in the list\n",
    "for l in L:\n",
    "    if type(l)==str:\n",
    "        print(l)\n",
    "        break"
   ]
  },
  {
   "cell_type": "markdown",
   "metadata": {},
   "source": [
    "### Functions\n",
    "\n",
    "A function is an operation in Python that takes in an input and produces an output. In the following, let's create a function for adding 2 numbers."
   ]
  },
  {
   "cell_type": "code",
   "execution_count": null,
   "metadata": {},
   "outputs": [],
   "source": [
    "def addition(a,b):\n",
    "    return a+b\n",
    "\n",
    "addition(5,10)"
   ]
  },
  {
   "cell_type": "markdown",
   "metadata": {},
   "source": [
    "That was simple. Let's try something more advanced. Let's write a function that removes values in a list that are not integers."
   ]
  },
  {
   "cell_type": "code",
   "execution_count": null,
   "metadata": {},
   "outputs": [],
   "source": [
    "def remove_non_integers(input_list):\n",
    "    new_list = [] # Initializing empty list\n",
    "    for value in input_list:\n",
    "        if type(value) == int:\n",
    "            new_list.append(value)\n",
    "    return new_list\n",
    "\n",
    "mixed_list = [1, 4, 5, 3.0, True, False, \"cat\", 9, \"dog\"]\n",
    "remove_non_integers(mixed_list)"
   ]
  },
  {
   "cell_type": "markdown",
   "metadata": {},
   "source": [
    "#### Exercise"
   ]
  },
  {
   "cell_type": "markdown",
   "metadata": {},
   "source": [
    "Now it's your turn. In the following sentence, replace all the commas with spaces.\n",
    "The output should be \"Remove the commas\""
   ]
  },
  {
   "cell_type": "code",
   "execution_count": null,
   "metadata": {},
   "outputs": [],
   "source": [
    "sentence = \"Remove,the,commas\"\n",
    "\n",
    "def remove_commas(input_text):\n",
    "    # Write code here\n",
    "    \n",
    "\n",
    "remove_commas(sentence)"
   ]
  },
  {
   "cell_type": "markdown",
   "metadata": {},
   "source": [
    "### Dictionaries\n",
    "Dictionaries, also called \"hash tables\" are data structures that map keys into values.\n",
    "The value can be anything. The key has to be **immutable**, for example, numbers, strings or tuples.\n",
    "A key can appear only once, which means that the keys form a **set** (see above)"
   ]
  },
  {
   "cell_type": "code",
   "execution_count": null,
   "metadata": {},
   "outputs": [],
   "source": [
    "# columns is initialized as a dictionary\n",
    "columns={}\n",
    "# an empty list is created for each field\n",
    "for (field, start, end, cast) in fields:\n",
    "    columns[field]=[]"
   ]
  },
  {
   "cell_type": "code",
   "execution_count": null,
   "metadata": {},
   "outputs": [],
   "source": [
    "columns"
   ]
  },
  {
   "cell_type": "code",
   "execution_count": null,
   "metadata": {},
   "outputs": [],
   "source": [
    "# An explicit definition of a dictionary:\n",
    "Dict={'dan':12,'john':10,'sarah':9}\n",
    "Dict"
   ]
  },
  {
   "cell_type": "code",
   "execution_count": null,
   "metadata": {},
   "outputs": [],
   "source": [
    "#list the keys in the dictionary\n",
    "for key in columns.keys():\n",
    "    # note the comma at the end of the print command\n",
    "    print(key,)"
   ]
  },
  {
   "cell_type": "markdown",
   "metadata": {},
   "source": [
    "### Exceptions\n",
    "When we read a data file there is always a chance that some of the lines in the file are corrupted. The chance approaches certainty as the length of the file increases to gigabytes.\n",
    "\n",
    "Here is a simple example where we try to convert the string \"cat\" to float"
   ]
  },
  {
   "cell_type": "code",
   "execution_count": null,
   "metadata": {},
   "outputs": [],
   "source": [
    "# This should error out as \"cat\" is not a number\n",
    "float(\"cat\")"
   ]
  },
  {
   "cell_type": "markdown",
   "metadata": {},
   "source": [
    "Now let's gracefully skip this error prone value"
   ]
  },
  {
   "cell_type": "code",
   "execution_count": null,
   "metadata": {},
   "outputs": [],
   "source": [
    "# There is a string \"cat\" in the following list\n",
    "integer_list = [1,2,3,5,12,25,\"cat\",5,3]\n",
    "float_list = [] # Empty list for storing float values\n",
    "\n",
    "for i in integer_list:\n",
    "    try:\n",
    "        f = float(i)\n",
    "    # This will skip when we hit \"cat\" and continue to the next value\n",
    "    except ValueError:\n",
    "        print('bad field: %s of type %s'%(i, type(i)))\n",
    "        continue\n",
    "    float_list.append(f)\n",
    "print(float_list)"
   ]
  },
  {
   "cell_type": "markdown",
   "metadata": {},
   "source": [
    "Because we use `try/except` we ignore the ill-formed fields but read all of the good ones."
   ]
  },
  {
   "cell_type": "markdown",
   "metadata": {},
   "source": [
    "# Numpy (Python for Math!)\n",
    "\n",
    "Numpy is a math library that runs on C for faster implementation. It's very useful for solving large matrix operations.\n",
    "\n",
    "Import the Numpy library with all the built in functions"
   ]
  },
  {
   "cell_type": "code",
   "execution_count": null,
   "metadata": {},
   "outputs": [],
   "source": [
    "import numpy as np"
   ]
  },
  {
   "cell_type": "code",
   "execution_count": null,
   "metadata": {},
   "outputs": [],
   "source": [
    "# Numpy has built in trigonometry functions like sin, cos, tan, etc.\n",
    "print(np.sin(0.243))\n",
    "print()\n",
    "\n",
    "# Numpy also has accurate constants like pi\n",
    "print(np.pi)\n",
    "print()"
   ]
  },
  {
   "cell_type": "code",
   "execution_count": null,
   "metadata": {},
   "outputs": [],
   "source": [
    "# Matrix manipulations\n",
    "\n",
    "mat = np.matrix([[1,2,3],[4,5,6],[7,8,9]])\n",
    "print(mat)\n",
    "print()\n",
    "\n",
    "print(np.cross(mat, mat))\n",
    "print()\n",
    "\n",
    "print(np.dot(mat,mat))\n",
    "print()\n",
    "\n",
    "print(np.linalg.inv(mat))"
   ]
  },
  {
   "cell_type": "code",
   "execution_count": null,
   "metadata": {},
   "outputs": [],
   "source": [
    "# Also a useful function for creating 101 datapoints, between 0 and 10\n",
    "\n",
    "np.linspace(0,10,101)"
   ]
  },
  {
   "cell_type": "markdown",
   "metadata": {},
   "source": [
    "#### Exercise\n",
    " \n",
    "Write a function that calculates the area of a circle, given the radius."
   ]
  },
  {
   "cell_type": "code",
   "execution_count": null,
   "metadata": {},
   "outputs": [],
   "source": [
    "radius = 5\n",
    "\n",
    "# Write function here and print result"
   ]
  },
  {
   "cell_type": "markdown",
   "metadata": {},
   "source": [
    "# Matplotlib (Python for Plotting)\n",
    "Matplotlib is the Python plotting library"
   ]
  },
  {
   "cell_type": "code",
   "execution_count": null,
   "metadata": {},
   "outputs": [],
   "source": [
    "import matplotlib.pyplot as plt\n",
    "%matplotlib inline"
   ]
  },
  {
   "cell_type": "markdown",
   "metadata": {},
   "source": [
    "Here is a simple plot. Change the fontsize, string, figsize and see how the plot output changes."
   ]
  },
  {
   "cell_type": "code",
   "execution_count": null,
   "metadata": {},
   "outputs": [],
   "source": [
    "# X and Y coordinates. Make sure the lists have the same length.\n",
    "x = [0,1,2,3,4,5]\n",
    "y = [0,10,15,23,34,55]\n",
    "\n",
    "plt.figure(figsize=(7,5)) # First value for horizontal length and the second vertical\n",
    "plt.plot(x,y) # Simple line plot\n",
    "plt.title(\"Title Here\", fontsize=14) # Title\n",
    "plt.xlabel(\"X-Label Here\", fontsize=12) # X-axis description\n",
    "plt.ylabel(\"Y-Label Here\", fontsize=12) # Y-axis description\n",
    "plt.show() # Output final plot"
   ]
  },
  {
   "cell_type": "code",
   "execution_count": null,
   "metadata": {},
   "outputs": [],
   "source": [
    "# Time to revise some numpy\n",
    "\n",
    "x = np.linspace(0, 2*np.pi, 400)\n",
    "y = np.sin(x**2)\n",
    "plt.figure(figsize=(7,5))\n",
    "plt.plot(x, y)\n",
    "plt.title('Simple plot', fontsize=15)"
   ]
  },
  {
   "cell_type": "markdown",
   "metadata": {},
   "source": [
    "A single figure can have multiple subplots"
   ]
  },
  {
   "cell_type": "code",
   "execution_count": null,
   "metadata": {},
   "outputs": [],
   "source": [
    "plt.figure(figsize=(13,5))\n",
    "\n",
    "# Left subplot. Format: (#rows, #columns, plot_number)\n",
    "plt.subplot(1,2,1)\n",
    "plt.plot(x, y)\n",
    "plt.title(\"First Line Plot\")\n",
    "\n",
    "# Right subplot\n",
    "plt.subplot(1,2,2)\n",
    "plt.scatter(x, y)\n",
    "plt.title(\"Second Scatter Plot\")"
   ]
  },
  {
   "cell_type": "markdown",
   "metadata": {},
   "source": [
    "#### Exercise\n",
    "\n",
    "Plot a simple pie chart (Google up how)"
   ]
  },
  {
   "cell_type": "code",
   "execution_count": null,
   "metadata": {},
   "outputs": [],
   "source": [
    "# Write code here\n",
    "\n",
    "\n"
   ]
  },
  {
   "cell_type": "markdown",
   "metadata": {},
   "source": [
    "#### Exercise\n",
    "\n",
    "Plot a tan function between 0 and 2*pi"
   ]
  },
  {
   "cell_type": "code",
   "execution_count": null,
   "metadata": {},
   "outputs": [],
   "source": [
    "# Write code here\n",
    "\n",
    "\n"
   ]
  },
  {
   "cell_type": "markdown",
   "metadata": {},
   "source": [
    "# Pandas (Data Analytics)\n",
    "\n",
    "Pandas is a library that allows us to read and filter data of different format. For this exercise, we will use a common CSV file (which is similar to an Excel sheet)"
   ]
  },
  {
   "cell_type": "code",
   "execution_count": null,
   "metadata": {},
   "outputs": [],
   "source": [
    "import pandas as pd"
   ]
  },
  {
   "cell_type": "code",
   "execution_count": null,
   "metadata": {},
   "outputs": [],
   "source": [
    "# Load the CSV file as a Pandas Dataframe\n",
    "df = pd.read_csv(\"iris_dataset.csv\")\n",
    "\n",
    "# Show first 5 lines of the Dataframe\n",
    "df.head(5)"
   ]
  },
  {
   "cell_type": "code",
   "execution_count": null,
   "metadata": {},
   "outputs": [],
   "source": [
    "# Filter for sepal width greater than 4 cm\n",
    "\n",
    "df[df[\"sepal width (cm)\"]>4]"
   ]
  },
  {
   "cell_type": "code",
   "execution_count": null,
   "metadata": {},
   "outputs": [],
   "source": [
    "# Filter and show only the petal length and width columns\n",
    "# Print only the first 5 rows as there are too many rows\n",
    "\n",
    "df[[\"petal length (cm)\", \"petal width (cm)\"]].head(5)"
   ]
  },
  {
   "cell_type": "code",
   "execution_count": null,
   "metadata": {},
   "outputs": [],
   "source": [
    "# Combining, show only petal length and width where sepal width is greate than 4 cm\n",
    "\n",
    "df[df[\"sepal width (cm)\"]>4][[\"petal length (cm)\", \"petal width (cm)\"]]"
   ]
  },
  {
   "cell_type": "markdown",
   "metadata": {},
   "source": [
    "# Final Exercise!!!\n",
    "\n",
    "Write a function that\n",
    "- Takes the the path to the iris dataset as input\n",
    "- Loads the dataset as a Pandas Dataframe\n",
    "- Filters for rows where sepal width is between 2cm and 4cm\n",
    "- Create a plot with 2 subplots\n",
    "    - Subplot 1: A scatter plot with log of petal length on y axis and log of petal width on x axis \n",
    "        - Hint: Look up log for Numpy\n",
    "    - Subplot 2: A histogram of sepal length"
   ]
  },
  {
   "cell_type": "code",
   "execution_count": null,
   "metadata": {},
   "outputs": [],
   "source": [
    "def final_function(path):\n",
    "    # Write code here:\n",
    "\n",
    "\n",
    "\n",
    "\n",
    "\n",
    "\n",
    "    \n",
    "final_function(path)"
   ]
  }
 ],
 "metadata": {
  "kernelspec": {
   "display_name": "Python 3",
   "language": "python",
   "name": "python3"
  },
  "language_info": {
   "codemirror_mode": {
    "name": "ipython",
    "version": 3
   },
   "file_extension": ".py",
   "mimetype": "text/x-python",
   "name": "python",
   "nbconvert_exporter": "python",
   "pygments_lexer": "ipython3",
   "version": "3.7.3"
  }
 },
 "nbformat": 4,
 "nbformat_minor": 1
}
